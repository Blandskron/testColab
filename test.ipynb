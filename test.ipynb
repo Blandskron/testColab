{
  "nbformat": 4,
  "nbformat_minor": 0,
  "metadata": {
    "colab": {
      "provenance": [],
      "authorship_tag": "ABX9TyMH+TVtEEzvCH4kkvIzYGrd",
      "include_colab_link": true
    },
    "kernelspec": {
      "name": "python3",
      "display_name": "Python 3"
    },
    "language_info": {
      "name": "python"
    }
  },
  "cells": [
    {
      "cell_type": "markdown",
      "metadata": {
        "id": "view-in-github",
        "colab_type": "text"
      },
      "source": [
        "<a href=\"https://colab.research.google.com/github/Blandskron/testColab/blob/main/test.ipynb\" target=\"_parent\"><img src=\"https://colab.research.google.com/assets/colab-badge.svg\" alt=\"Open In Colab\"/></a>"
      ]
    },
    {
      "cell_type": "markdown",
      "source": [
        "# **Introducción a Python y su Sintaxis Esencial**"
      ],
      "metadata": {
        "id": "np0Ajl_AjDU8"
      }
    },
    {
      "cell_type": "markdown",
      "source": [
        "Hola\n"
      ],
      "metadata": {
        "id": "tddd-DTekKPL"
      }
    },
    {
      "cell_type": "code",
      "execution_count": null,
      "metadata": {
        "colab": {
          "base_uri": "https://localhost:8080/"
        },
        "id": "mK9u_VuFh1V4",
        "outputId": "b8efbbd8-d3d3-46b2-bad8-e559eaed6108"
      },
      "outputs": [
        {
          "output_type": "stream",
          "name": "stdout",
          "text": [
            "¡Hola, Python!\n"
          ]
        }
      ],
      "source": [
        "print(\"¡Hola, Python!\")"
      ]
    },
    {
      "cell_type": "code",
      "source": [
        "import json\n",
        "\n",
        "data = []\n",
        "for i in range(10):\n",
        "    item = {\n",
        "        \"id\": i + 1,\n",
        "        \"nombre\": f\"Elemento {i + 1}\",\n",
        "        \"valor\": (i + 1) * 10\n",
        "    }\n",
        "    data.append(item)\n",
        "\n",
        "json_data = json.dumps(data, indent=4)\n",
        "\n",
        "print(json_data)"
      ],
      "metadata": {
        "colab": {
          "base_uri": "https://localhost:8080/"
        },
        "id": "MDZyRk9akgDb",
        "outputId": "6ee05de9-8cb5-47b2-9a6d-f29471f7d72e"
      },
      "execution_count": null,
      "outputs": [
        {
          "output_type": "stream",
          "name": "stdout",
          "text": [
            "[\n",
            "    {\n",
            "        \"id\": 1,\n",
            "        \"nombre\": \"Elemento 1\",\n",
            "        \"valor\": 10\n",
            "    },\n",
            "    {\n",
            "        \"id\": 2,\n",
            "        \"nombre\": \"Elemento 2\",\n",
            "        \"valor\": 20\n",
            "    },\n",
            "    {\n",
            "        \"id\": 3,\n",
            "        \"nombre\": \"Elemento 3\",\n",
            "        \"valor\": 30\n",
            "    },\n",
            "    {\n",
            "        \"id\": 4,\n",
            "        \"nombre\": \"Elemento 4\",\n",
            "        \"valor\": 40\n",
            "    },\n",
            "    {\n",
            "        \"id\": 5,\n",
            "        \"nombre\": \"Elemento 5\",\n",
            "        \"valor\": 50\n",
            "    },\n",
            "    {\n",
            "        \"id\": 6,\n",
            "        \"nombre\": \"Elemento 6\",\n",
            "        \"valor\": 60\n",
            "    },\n",
            "    {\n",
            "        \"id\": 7,\n",
            "        \"nombre\": \"Elemento 7\",\n",
            "        \"valor\": 70\n",
            "    },\n",
            "    {\n",
            "        \"id\": 8,\n",
            "        \"nombre\": \"Elemento 8\",\n",
            "        \"valor\": 80\n",
            "    },\n",
            "    {\n",
            "        \"id\": 9,\n",
            "        \"nombre\": \"Elemento 9\",\n",
            "        \"valor\": 90\n",
            "    },\n",
            "    {\n",
            "        \"id\": 10,\n",
            "        \"nombre\": \"Elemento 10\",\n",
            "        \"valor\": 100\n",
            "    }\n",
            "]\n"
          ]
        }
      ]
    },
    {
      "cell_type": "code",
      "source": [
        "import json\n",
        "import matplotlib.pyplot as plt\n",
        "\n",
        "# Tu código para generar los datos JSON (del paso anterior)\n",
        "data = []\n",
        "for i in range(10):\n",
        "    item = {\n",
        "        \"id\": i + 1,\n",
        "        \"nombre\": f\"Elemento {i + 1}\",\n",
        "        \"valor\": (i + 1) * 10\n",
        "    }\n",
        "    data.append(item)\n",
        "\n",
        "# Extraer los datos para el gráfico\n",
        "ids = [item['id'] for item in data]\n",
        "valores = [item['valor'] for item in data]\n",
        "\n",
        "# Crear el gráfico\n",
        "plt.figure(figsize=(10, 6)) # Opcional: ajusta el tamaño del gráfico\n",
        "plt.bar(ids, valores) # O puedes usar plt.plot(ids, valores) para un gráfico de líneas\n",
        "plt.xlabel(\"ID del Elemento\")\n",
        "plt.ylabel(\"Valor\")\n",
        "plt.title(\"Gráfico de Valor por ID\")\n",
        "plt.xticks(ids) # Para asegurar que todos los IDs se muestren en el eje X\n",
        "plt.grid(axis='y', linestyle='--') # Opcional: añade una cuadrícula\n",
        "plt.show()"
      ],
      "metadata": {
        "id": "cf5NBO_lktiE",
        "outputId": "13b866c5-479a-4453-c93f-feb0d2166e6f",
        "colab": {
          "base_uri": "https://localhost:8080/",
          "height": 565
        }
      },
      "execution_count": null,
      "outputs": [
        {
          "output_type": "display_data",
          "data": {
            "text/plain": [
              "<Figure size 1000x600 with 1 Axes>"
            ],
            "image/png": "[encoded data removed]"
          },
          "metadata": {}
        }
      ]
    }
  ]
}